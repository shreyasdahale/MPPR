{
 "cells": [
  {
   "cell_type": "code",
   "execution_count": 33,
   "id": "5521dcff",
   "metadata": {},
   "outputs": [],
   "source": [
    "import pickle\n",
    "\n",
    "# Replace 'your_file.pkl' with the path to your file\n",
    "with open('MIT-BIH Baseline results/mitbih.pkl', 'rb') as f:\n",
    "    data = pickle.load(f)\n",
    "\n",
    "# print(type(data))\n",
    "# print(data)"
   ]
  },
  {
   "cell_type": "code",
   "execution_count": 34,
   "id": "ae718262",
   "metadata": {},
   "outputs": [],
   "source": [
    "import numpy as np"
   ]
  },
  {
   "cell_type": "code",
   "execution_count": null,
   "id": "b9ed85e2",
   "metadata": {},
   "outputs": [],
   "source": [
    "import numpy as np\n",
    "\n",
    "# Example: nrmse_dict['ESN'] is a list of 30 dictionaries\n",
    "# Each dictionary: {horizon: nrmse_value}\n",
    "\n",
    "def compute_mean_nrmse(nrmse_list):\n",
    "    # Get all unique horizons (assumes all dicts have same keys)\n",
    "    horizons = nrmse_list[0].keys()\n",
    "    \n",
    "    mean_nrmse = {}\n",
    "    std_nrmse = {}\n",
    "    for h in horizons:\n",
    "        # Extract all values for the current horizon\n",
    "        values = [seed_dict[h] for seed_dict in nrmse_list]\n",
    "        mean_nrmse[h] = float(np.mean(values))  # Convert to float for cleaner output\n",
    "        std_nrmse[h] = float(np.std(values))  # Optional: compute standard deviation\n",
    "\n",
    "    return mean_nrmse#, std_nrmse\n",
    "\n",
    "# # Usage:\n",
    "# mean_nrmse_dict = compute_mean_nrmse(data['DeepESN'])\n",
    "\n",
    "# # Optional: print sorted by horizon\n",
    "# for h in sorted(mean_nrmse_dict):\n",
    "#     print(f\"Horizon {h}: {mean_nrmse_dict[h]:.5f}\")\n"
   ]
  },
  {
   "cell_type": "code",
   "execution_count": null,
   "id": "4a496ebe",
   "metadata": {},
   "outputs": [
    {
     "data": {
      "text/plain": [
       "({300: 2.737071708653155, 600: 2.016741080727438, 1000: 1.6513115444606297},\n",
       " {300: 0.9627803362147337, 600: 0.6579662600142611, 1000: 0.4127282517360418})"
      ]
     },
     "execution_count": 58,
     "metadata": {},
     "output_type": "execute_result"
    }
   ],
   "source": [
    "# mean_nrmse_dict"
   ]
  },
  {
   "cell_type": "code",
   "execution_count": null,
   "id": "255ee231",
   "metadata": {},
   "outputs": [],
   "source": [
    "# data['TRIGR'] = [{300: np.float64(0.24376947029495682),\n",
    "#   600: np.float64(0.19635949454777935),\n",
    "#   1000: np.float64(0.19439893283694912)},\n",
    "#  {300: np.float64(0.24466523690803418),\n",
    "#   600: np.float64(0.19659453501758767),\n",
    "#   1000: np.float64(0.19477846066211477)},\n",
    "#  {300: np.float64(0.2433150083172924),\n",
    "#   600: np.float64(0.19563315266884992),\n",
    "#   1000: np.float64(0.19384749605092236)},\n",
    "#  {300: np.float64(0.24435467683906417),\n",
    "#   600: np.float64(0.19615192246504481),\n",
    "#   1000: np.float64(0.19441557433126966)},\n",
    "#  {300: np.float64(0.2446144885330791),\n",
    "#   600: np.float64(0.19659860644792357),\n",
    "#   1000: np.float64(0.1947684058452851)},\n",
    "#  {300: np.float64(0.24459510839552434),\n",
    "#   600: np.float64(0.1968706476085727),\n",
    "#   1000: np.float64(0.19511114359390072)},\n",
    "#  {300: np.float64(0.24378913125822227),\n",
    "#   600: np.float64(0.19589662003663766),\n",
    "#   1000: np.float64(0.1940967098096593)},\n",
    "#  {300: np.float64(0.2442885041819542),\n",
    "#   600: np.float64(0.1966479700105946),\n",
    "#   1000: np.float64(0.1947407048329704)},\n",
    "#  {300: np.float64(0.24438222762057638),\n",
    "#   600: np.float64(0.19647305425794817),\n",
    "#   1000: np.float64(0.1946522795301291)},\n",
    "#  {300: np.float64(0.24464394166025136),\n",
    "#   600: np.float64(0.19714363704575166),\n",
    "#   1000: np.float64(0.19525438151393318)},\n",
    "#  {300: np.float64(0.24317417431715946),\n",
    "#   600: np.float64(0.19588473889037356),\n",
    "#   1000: np.float64(0.19402648704969044)},\n",
    "#  {300: np.float64(0.2442962188289423),\n",
    "#   600: np.float64(0.19647070037557424),\n",
    "#   1000: np.float64(0.19460787845860847)},\n",
    "#  {300: np.float64(0.24346975839419127),\n",
    "#   600: np.float64(0.1958412722618545),\n",
    "#   1000: np.float64(0.1940077867886072)},\n",
    "#  {300: np.float64(0.24314714274967353),\n",
    "#   600: np.float64(0.19566496694223307),\n",
    "#   1000: np.float64(0.1938186564934316)},\n",
    "#  {300: np.float64(0.2441716986416212),\n",
    "#   600: np.float64(0.1962015263076211),\n",
    "#   1000: np.float64(0.19432750694711734)},\n",
    "#  {300: np.float64(0.24410073477670396),\n",
    "#   600: np.float64(0.1959169030222402),\n",
    "#   1000: np.float64(0.19405973778457136)},\n",
    "#  {300: np.float64(0.24434030263631562),\n",
    "#   600: np.float64(0.19635835847206534),\n",
    "#   1000: np.float64(0.194567565225427)},\n",
    "#  {300: np.float64(0.244531635396312),\n",
    "#   600: np.float64(0.1967127306498078),\n",
    "#   1000: np.float64(0.1949863552799613)},\n",
    "#  {300: np.float64(0.2439767436126791),\n",
    "#   600: np.float64(0.19616010540107712),\n",
    "#   1000: np.float64(0.1943253489557966)},\n",
    "#  {300: np.float64(0.24305976704570606),\n",
    "#   600: np.float64(0.19554619263552941),\n",
    "#   1000: np.float64(0.1936287822899571)},\n",
    "#  {300: np.float64(0.24377659934406276),\n",
    "#   600: np.float64(0.19591316355338084),\n",
    "#   1000: np.float64(0.1940238288568405)},\n",
    "#  {300: np.float64(0.24320468723257177),\n",
    "#   600: np.float64(0.19557150371697427),\n",
    "#   1000: np.float64(0.19369742763449188)},\n",
    "#  {300: np.float64(0.24479104661666315),\n",
    "#   600: np.float64(0.196479803878225),\n",
    "#   1000: np.float64(0.194653858441248)},\n",
    "#  {300: np.float64(0.24387988788891124),\n",
    "#   600: np.float64(0.1960876076758111),\n",
    "#   1000: np.float64(0.1941730855471413)},\n",
    "#  {300: np.float64(0.24379273051191316),\n",
    "#   600: np.float64(0.19605593767290283),\n",
    "#   1000: np.float64(0.19412989255057678)},\n",
    "#  {300: np.float64(0.24411724808922988),\n",
    "#   600: np.float64(0.19634961443925852),\n",
    "#   1000: np.float64(0.19454853608206085)},\n",
    "#  {300: np.float64(0.2445052062338873),\n",
    "#   600: np.float64(0.19663697551538645),\n",
    "#   1000: np.float64(0.19471281427723425)},\n",
    "#  {300: np.float64(0.2442457312197058),\n",
    "#   600: np.float64(0.19589240098380792),\n",
    "#   1000: np.float64(0.19411534595466132)},\n",
    "#  {300: np.float64(0.24468030048097897),\n",
    "#   600: np.float64(0.19670174518293884),\n",
    "#   1000: np.float64(0.19487664440065572)},\n",
    "#  {300: np.float64(0.24406499447402402),\n",
    "#   600: np.float64(0.19618306494796958),\n",
    "#   1000: np.float64(0.1943258253839569)}]"
   ]
  },
  {
   "cell_type": "code",
   "execution_count": 30,
   "id": "91df9b4e",
   "metadata": {},
   "outputs": [
    {
     "data": {
      "text/plain": [
       "dict_keys(['ESN', 'SCR', 'CRJ', 'MCI-ESN', 'DeepESN', 'TRIGR'])"
      ]
     },
     "execution_count": 30,
     "metadata": {},
     "output_type": "execute_result"
    }
   ],
   "source": [
    "data.keys()"
   ]
  },
  {
   "cell_type": "code",
   "execution_count": 12,
   "id": "cf184a2d",
   "metadata": {},
   "outputs": [],
   "source": [
    "del data['HFR']"
   ]
  },
  {
   "cell_type": "code",
   "execution_count": 31,
   "id": "38c32e1e",
   "metadata": {},
   "outputs": [],
   "source": [
    "import seaborn as sns\n",
    "import pandas as pd"
   ]
  },
  {
   "cell_type": "code",
   "execution_count": 32,
   "id": "86c0821d",
   "metadata": {},
   "outputs": [
    {
     "name": "stderr",
     "output_type": "stream",
     "text": [
      "C:\\Users\\shrey\\AppData\\Local\\Temp\\ipykernel_2452\\3793689474.py:24: FutureWarning: \n",
      "\n",
      "Passing `palette` without assigning `hue` is deprecated and will be removed in v0.14.0. Assign the `x` variable to `hue` and set `legend=False` for the same effect.\n",
      "\n",
      "  sns.boxplot(data=df, x='Model', y='Value', palette='Set2', showfliers=False)\n"
     ]
    },
    {
     "data": {
      "image/png": "[encoded data removed]",
      "text/plain": [
       "<Figure size 600x600 with 1 Axes>"
      ]
     },
     "metadata": {},
     "output_type": "display_data"
    }
   ],
   "source": [
    "import matplotlib.pyplot as plt\n",
    "\n",
    "horizon = 1000\n",
    "records = []\n",
    "\n",
    "# Extract values for horizon=1000 for all models\n",
    "for model_name, model_seeds in data.items():\n",
    "    for seed_dict in model_seeds:\n",
    "        if horizon in seed_dict:\n",
    "            vals = seed_dict[horizon]\n",
    "            if hasattr(vals, '__iter__'):\n",
    "                for v in vals:\n",
    "                    if not (pd.isna(v) or v == float('inf')):\n",
    "                        records.append({'Model': model_name, 'Value': v})\n",
    "            else:\n",
    "                if not (pd.isna(vals) or vals == float('inf')):\n",
    "                    records.append({'Model': model_name, 'Value': vals})\n",
    "\n",
    "# Convert to DataFrame\n",
    "df = pd.DataFrame(records)\n",
    "\n",
    "# Plot using seaborn\n",
    "plt.figure(figsize=(6, 6))\n",
    "sns.boxplot(data=df, x='Model', y='Value', palette='Set2', showfliers=False)\n",
    "# plt.title(f'Boxplot of NRMSE at Horizon {horizon}')\n",
    "plt.ylabel('NRMSE')\n",
    "plt.xticks(rotation=45)\n",
    "plt.grid(True, linestyle='--', alpha=0.5)\n",
    "plt.tight_layout()\n",
    "plt.savefig('Sunspot Baseline results/nrmse_boxplot_h1000_sunspot-trigr.png', dpi=400)\n",
    "plt.show()"
   ]
  },
  {
   "cell_type": "code",
   "execution_count": null,
   "id": "75dd5cae",
   "metadata": {},
   "outputs": [],
   "source": []
  },
  {
   "cell_type": "code",
   "execution_count": null,
   "id": "b4bb4b72",
   "metadata": {},
   "outputs": [],
   "source": []
  }
 ],
 "metadata": {
  "kernelspec": {
   "display_name": "Python 3",
   "language": "python",
   "name": "python3"
  },
  "language_info": {
   "codemirror_mode": {
    "name": "ipython",
    "version": 3
   },
   "file_extension": ".py",
   "mimetype": "text/x-python",
   "name": "python",
   "nbconvert_exporter": "python",
   "pygments_lexer": "ipython3",
   "version": "3.13.3"
  }
 },
 "nbformat": 4,
 "nbformat_minor": 5
}
